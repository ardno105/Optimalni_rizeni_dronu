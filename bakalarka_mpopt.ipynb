{
 "cells": [
  {
   "cell_type": "code",
   "execution_count": null,
   "metadata": {},
   "outputs": [],
   "source": [
    "# Import knihoven\n",
    "from mpopt import mp\n",
    "import casadi as ca\n",
    "import numpy as np"
   ]
  },
  {
   "cell_type": "code",
   "execution_count": null,
   "metadata": {},
   "outputs": [],
   "source": [
    "# Definice OCP\n",
    "ocp = mp.OCP(n_states=12, n_controls=4)"
   ]
  },
  {
   "cell_type": "code",
   "execution_count": null,
   "metadata": {},
   "outputs": [],
   "source": [
    "def dynamics1(x, u, t):\n",
    "    # Parametry\n",
    "    C_T = 1.28192e-8      # koeficient tahu rotoru\n",
    "    C_M = 5.964552e-3     # koeficient momentu rotoru\n",
    "    rad_max = (2 * np.pi * 64 * 200) / 60  # maximální otáčky [rad/s]\n",
    "    rad_min = (2 * np.pi * 64 * 18) / 60     # minimální otáčky [rad/s]\n",
    "    rpm_max = rad_max * 9.5492968            # maximální otáčky [rpm]\n",
    "    rpm_min = rad_min * 9.5492968            # minimální otáčky [rpm]\n",
    "    arm_length = 0.0397     # délka ramene [m]\n",
    "\n",
    "    g = 9.81       # tíhové zrychlení [m/s²]\n",
    "    m = 0.03       # hmotnost dronu [kg]\n",
    "    Ix = 1.395e-5  # moment setrvačnosti kolem osy x [kg·m²]\n",
    "    Iy = 1.436e-6  # moment setrvačnosti kolem osy y [kg·m²]\n",
    "    Iz = 2.173e-6  # moment setrvačnosti kolem osy z [kg·m²]\n",
    "\n",
    "    Ts = 1e-3    # perioda vzorkování [s]\n",
    "\n",
    "    # Limity tahu (každý rotor)\n",
    "    f_max = 0.15   # maximální tah jednoho rotoru [N]\n",
    "    f_min = 0.0\n",
    "\n",
    "    # Definice stavů a vstupu\n",
    "    # Stav: x = [x, y, z, vx, vy, vz, phi, theta, psi, p, q, r]\n",
    "    # Celkový tah a momenty\n",
    "    F = u[0] + u[1] + u[2] + u[3]\n",
    "    tau_phi   = arm_length * (u[3] - u[1])\n",
    "    tau_theta = arm_length * (u[2] - u[0])\n",
    "    tau_psi   = (C_M / C_T) * (u[0] - u[1] + u[2] - u[3])\n",
    "\n",
    "    # Rozbalení stavů\n",
    "    pos = x[0:3]      # poloha: [x, y, z]\n",
    "    vel = x[3:6]      # rychlost: [vx, vy, vz]\n",
    "    phi   = x[6]      # natočení\n",
    "    theta = x[7]\n",
    "    psi   = x[8]\n",
    "    p     = x[9]      # úholvá rychlost\n",
    "    q     = x[10]\n",
    "    r     = x[11]\n",
    "\n",
    "    # Rotace dle Eulerových úhlů\n",
    "    fx = (F/m) * (ca.cos(phi)*ca.sin(theta)*ca.cos(psi) + ca.sin(phi)*ca.sin(psi))\n",
    "    fy = (F/m) * (ca.cos(phi)*ca.sin(theta)*ca.sin(psi) - ca.sin(phi)*ca.cos(psi))\n",
    "    fz = (F/m) * (ca.cos(phi)*ca.cos(theta)) - g\n",
    "\n",
    "    # Kinematika Eulerových úhlů\n",
    "    phi_dot   = p + q * ca.sin(phi) * ca.tan(theta) + r * ca.cos(phi) * ca.tan(theta)\n",
    "    theta_dot = q * ca.cos(phi) - r * ca.sin(phi)\n",
    "    psi_dot   = q * ca.sin(phi) / ca.cos(theta) + r * ca.cos(phi) / ca.cos(theta)\n",
    "\n",
    "    # Dynamika otáčení\n",
    "    p_dot = (tau_phi - (Iy - Iz) * q * r) / Ix\n",
    "    q_dot = (tau_theta - (Iz - Ix) * p * r) / Iy\n",
    "    r_dot = (tau_psi - (Ix - Iy) * p * q) / Iz\n",
    "\n",
    "    # Diferenciální rovnice\n",
    "    # x_dot = ca.vertcat(vel[0],\n",
    "    #                 vel[1],\n",
    "    #                 vel[2],\n",
    "    #                 fx,\n",
    "    #                 fy,\n",
    "    #                 fz,\n",
    "    #                 phi_dot,\n",
    "    #                 theta_dot,\n",
    "    #                 psi_dot,\n",
    "    #                 p_dot,\n",
    "    #                 q_dot,\n",
    "    #                 r_dot)\n",
    "    x_dot = [vel[0],\n",
    "                vel[1],\n",
    "                vel[2],\n",
    "                fx,\n",
    "                fy,\n",
    "                fz,\n",
    "                phi_dot,\n",
    "                theta_dot,\n",
    "                psi_dot,\n",
    "                p_dot,\n",
    "                q_dot,\n",
    "                r_dot]\n",
    "    return x_dot"
   ]
  },
  {
   "cell_type": "code",
   "execution_count": null,
   "metadata": {},
   "outputs": [],
   "source": [
    "# Nastavení dynamiky pro OCP \n",
    "def get_dynamics1():\n",
    "    dynamics0 = lambda x, u, t: dynamics1(x, u, t)\n",
    "\n",
    "    return [dynamics0]\n",
    "ocp.dynamics = get_dynamics1()"
   ]
  },
  {
   "cell_type": "code",
   "execution_count": null,
   "metadata": {},
   "outputs": [],
   "source": [
    "# Váhové matice Q a R \n",
    "Q = np.diag([10, 10, 100, 1, 1, 1, 1, 1, 1, 0.1, 0.1, 0.1])\n",
    "R = np.diag([1, 1, 1, 1])\n",
    "\n",
    "# Reference na testování\n",
    "x_ref = np.array([0, 0, 1, 0, 0, 0, 0, 0, 0, 0, 0, 0])\n",
    "\n",
    "# Nastavení hodnotící funkce J\n",
    "def running_cost(x, u, t):\n",
    "    x_err = x - x_ref\n",
    "    # return ca.mtimes([x_err.T, Q, x_err]) + ca.mtimes([u.T, R, u])\n",
    "    return (x_err @ Q @ x_err) + (u @ R @ u)\n",
    "ocp.running_costs[0] = running_cost"
   ]
  },
  {
   "cell_type": "code",
   "execution_count": null,
   "metadata": {},
   "outputs": [],
   "source": [
    "# Počáteční stav\n",
    "ocp.x00[0] = np.zeros(12)\n",
    "ocp.lbu[0] = 0\n",
    "ocp.ubu[0] = 0.15"
   ]
  },
  {
   "cell_type": "code",
   "execution_count": null,
   "metadata": {},
   "outputs": [],
   "source": [
    "# Validace modelu\n",
    "ocp.validate()"
   ]
  },
  {
   "cell_type": "code",
   "execution_count": null,
   "metadata": {},
   "outputs": [
    {
     "data": {
      "text/plain": [
       "\n",
       " *********** MPOPT Summary ********** \n",
       "\n",
       "Traceback (most recent call last):\n",
       "  File \"c:\\Users\\Ondra\\.vscode\\extensions\\ms-python.python-2025.0.0-win32-x64\\python_files\\python_server.py\", line 133, in exec_user_input\n",
       "    retval = callable_(user_input, user_globals)\n",
       "  File \"<string>\", line 2, in <module>\n",
       "  File \"C:\\Users\\Ondra\\AppData\\Local\\Programs\\Python\\Python313\\Lib\\site-packages\\mpopt\\mpopt.py\", line 4308, in solve\n",
       "    solution = mpo.solve(**solve_dict)\n",
       "  File \"C:\\Users\\Ondra\\AppData\\Local\\Programs\\Python\\Python313\\Lib\\site-packages\\mpopt\\mpopt.py\", line 792, in solve\n",
       "    self.create_solver(solver=solver, options=nlp_solver_options)\n",
       "    ~~~~~~~~~~~~~~~~~~^^^^^^^^^^^^^^^^^^^^^^^^^^^^^^^^^^^^^^^^^^^\n",
       "  File \"C:\\Users\\Ondra\\AppData\\Local\\Programs\\Python\\Python313\\Lib\\site-packages\\mpopt\\mpopt.py\", line 739, in create_solver\n",
       "    nlp_problem, self.nlp_bounds = self.create_nlp()\n",
       "                                   ~~~~~~~~~~~~~~~^^\n",
       "  File \"C:\\Users\\Ondra\\AppData\\Local\\Programs\\Python\\Python313\\Lib\\site-packages\\mpopt\\mpopt.py\", line 614, in create_nlp\n",
       "    G[phase], Gmin[phase], Gmax[phase], J = self.discretize_phase(phase)\n",
       "                                            ~~~~~~~~~~~~~~~~~~~~~^^^^^^^\n",
       "  File \"C:\\Users\\Ondra\\AppData\\Local\\Programs\\Python\\Python313\\Lib\\site-packages\\mpopt\\mpopt.py\", line 429, in discretize_phase\n",
       "    (f, c, q) = self.get_discretized_dynamics_constraints_and_cost_matrices(phase)\n",
       "                ~~~~~~~~~~~~~~~~~~~~~~~~~~~~~~~~~~~~~~~~~~~~~~~~~~~~~~~~~~~^^^^^^^\n",
       "  File \"C:\\Users\\Ondra\\AppData\\Local\\Programs\\Python\\Python313\\Lib\\site-packages\\mpopt\\mpopt.py\", line 206, in get_discretized_dynamics_constraints_and_cost_matrices\n",
       "    q[index] = h_seg * ca.vertcat(running_costs(x, u, t, a)).T\n",
       "                                  ~~~~~~~~~~~~~^^^^^^^^^^^^\n",
       "  File \"C:\\Users\\Ondra\\AppData\\Local\\Programs\\Python\\Python313\\Lib\\site-packages\\mpopt\\mpopt.py\", line 3556, in <lambda>\n",
       "    running_costs = lambda x, u, t, a: self.running_costs[phase](x, u, t)\n",
       "                                       ~~~~~~~~~~~~~~~~~~~~~~~~~^^^^^^^^^\n",
       "  File \"<string>\", line 12, in running_cost\n",
       "  File \"C:\\Users\\Ondra\\AppData\\Local\\Programs\\Python\\Python313\\Lib\\site-packages\\casadi\\casadi.py\", line 9018, in __matmul__\n",
       "    def __matmul__(x, y): return _casadi.mtimes(x, y)\n",
       "                                 ~~~~~~~~~~~~~~^^^^^^\n",
       "RuntimeError: .../casadi/core/sparsity.cpp:431: Assertion \"x.size2()==y.size1()\" failed:\n",
       "Matrix product with incompatible dimensions. Lhs is 12x1 and rhs is 12x12.\n",
       "\n"
      ]
     },
     "metadata": {},
     "output_type": "display_data"
    }
   ],
   "source": [
    "# Řešení\n",
    "mpo, post = mp.solve(ocp, n_segments=10, poly_orders=1, scheme=\"LGR\", plot=True)"
   ]
  }
 ],
 "metadata": {
  "language_info": {
   "name": "python"
  }
 },
 "nbformat": 4,
 "nbformat_minor": 2
}
